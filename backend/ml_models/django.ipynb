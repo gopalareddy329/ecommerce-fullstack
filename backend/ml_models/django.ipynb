{
 "cells": [
  {
   "cell_type": "code",
   "execution_count": 19,
   "metadata": {},
   "outputs": [],
   "source": [
    "import joblib\n",
    "import pandas as pd\n",
    "from sklearn.preprocessing import LabelEncoder"
   ]
  },
  {
   "cell_type": "code",
   "execution_count": 20,
   "metadata": {},
   "outputs": [],
   "source": [
    "model = joblib.load(\"new_kmeans_model.pkl\")\n",
    "scaler = joblib.load(\"scaler.pkl\")\n",
    "pca = joblib.load(\"pca.pkl\")\n",
    "clusters=pd.read_csv(\"clusters.csv\")"
   ]
  },
  {
   "cell_type": "code",
   "execution_count": 21,
   "metadata": {},
   "outputs": [],
   "source": [
    "User_input = pd.DataFrame([[0, 'Basic', 'Relationship', 30000.0,75000]], columns=['year_birth', 'education', 'marital_status', 'income','expenses'])"
   ]
  },
  {
   "cell_type": "code",
   "execution_count": 22,
   "metadata": {},
   "outputs": [],
   "source": [
    "\n",
    "label_encoder = LabelEncoder()\n",
    "User_input['education'] = label_encoder.fit_transform(User_input['education'])\n",
    "User_input['marital_status'] = label_encoder.fit_transform(User_input['marital_status'])"
   ]
  },
  {
   "cell_type": "code",
   "execution_count": 23,
   "metadata": {},
   "outputs": [],
   "source": [
    "scaled_data = scaler.transform(User_input)"
   ]
  },
  {
   "cell_type": "code",
   "execution_count": 24,
   "metadata": {},
   "outputs": [],
   "source": [
    "data=pca.transform(scaled_data)"
   ]
  },
  {
   "cell_type": "code",
   "execution_count": 25,
   "metadata": {},
   "outputs": [],
   "source": [
    "pred_cluster=model.predict(data)[0]"
   ]
  },
  {
   "cell_type": "code",
   "execution_count": 26,
   "metadata": {},
   "outputs": [
    {
     "name": "stdout",
     "output_type": "stream",
     "text": [
      "Predicted Cluster: 3\n"
     ]
    }
   ],
   "source": [
    "print(f\"Predicted Cluster: {pred_cluster}\")"
   ]
  },
  {
   "cell_type": "code",
   "execution_count": 46,
   "metadata": {},
   "outputs": [],
   "source": [
    "pred_cl_details = clusters[clusters['Cluster'] == pred_cluster]"
   ]
  },
  {
   "cell_type": "code",
   "execution_count": 47,
   "metadata": {},
   "outputs": [],
   "source": [
    "products_col =[\"wines\",\"fruits\",\"meat\",\"fish\",\"sweet\",\"gold\"]\n",
    "products_bought = pred_cl_details[products_col].sum()"
   ]
  },
  {
   "cell_type": "code",
   "execution_count": 48,
   "metadata": {},
   "outputs": [
    {
     "name": "stdout",
     "output_type": "stream",
     "text": [
      "The Products bought by Cluster 3 Customers are: \n",
      "wines     261276\n",
      "fruits     28590\n",
      "meat      177309\n",
      "fish       39644\n",
      "sweet      29351\n",
      "gold       35960\n",
      "dtype: int64\n"
     ]
    }
   ],
   "source": [
    "print(f\"The Products bought by Cluster {pred_cluster} Customers are: \")\n",
    "print(products_bought)"
   ]
  },
  {
   "cell_type": "code",
   "execution_count": 49,
   "metadata": {},
   "outputs": [],
   "source": [
    "total_amt = products_bought.sum()\n",
    "percent_products_bought = ((products_bought / total_amt) * 100).sort_values(ascending=False)"
   ]
  },
  {
   "cell_type": "code",
   "execution_count": 50,
   "metadata": {},
   "outputs": [
    {
     "name": "stdout",
     "output_type": "stream",
     "text": [
      "Percentage of products bought by the cluster 3 in each category:\n",
      "wines     45.667243\n",
      "meat      30.991034\n",
      "fish       6.929194\n",
      "gold       6.285285\n",
      "sweet      5.130128\n",
      "fruits     4.997116\n",
      "dtype: float64\n"
     ]
    }
   ],
   "source": [
    "print(f\"Percentage of products bought by the cluster {pred_cluster} in each category:\")\n",
    "print(percent_products_bought)"
   ]
  }
 ],
 "metadata": {
  "kernelspec": {
   "display_name": "venv",
   "language": "python",
   "name": "python3"
  },
  "language_info": {
   "codemirror_mode": {
    "name": "ipython",
    "version": 3
   },
   "file_extension": ".py",
   "mimetype": "text/x-python",
   "name": "python",
   "nbconvert_exporter": "python",
   "pygments_lexer": "ipython3",
   "version": "3.12.2"
  }
 },
 "nbformat": 4,
 "nbformat_minor": 2
}
